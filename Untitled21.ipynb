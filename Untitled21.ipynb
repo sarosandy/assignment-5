{
  "nbformat": 4,
  "nbformat_minor": 0,
  "metadata": {
    "colab": {
      "provenance": []
    },
    "kernelspec": {
      "name": "python3",
      "display_name": "Python 3"
    },
    "language_info": {
      "name": "python"
    }
  },
  "cells": [
    {
      "cell_type": "code",
      "source": [
        "#Write a Python class to implement pow(x, n)\n",
        "#Explanation:\n",
        "#Use should be able to find the nth power of the x.(i.e x*x*x*x...n times).You must implement it using Class\n",
        "#Sample Input: x: 10\n",
        "              # n: 2\n",
        "#Sample Output:100"
      ],
      "metadata": {
        "id": "hscMPijwAA7L"
      },
      "execution_count": null,
      "outputs": []
    },
    {
      "cell_type": "code",
      "source": [
        "#code 1\n",
        "class powerxn:\n",
        "  def power(x,n):\n",
        "    return pow(x,n)\n",
        "x=int(input(\"Enter the x value\"))\n",
        "n=int(input(\"Enter the n value\"))    \n",
        "print(powerxn.power(x,n))  "
      ],
      "metadata": {
        "colab": {
          "base_uri": "https://localhost:8080/"
        },
        "id": "WpTvsJdDB1c9",
        "outputId": "117e884d-4348-4a34-9326-ae6c72bb0e31"
      },
      "execution_count": 54,
      "outputs": [
        {
          "output_type": "stream",
          "name": "stdout",
          "text": [
            "Enter the x value10\n",
            "Enter the n value2\n",
            "100\n"
          ]
        }
      ]
    },
    {
      "cell_type": "code",
      "source": [
        "#code 2\n",
        "class power:\n",
        "\n",
        "  def pow(self, x, n):\n",
        "\n",
        "       if x==0 or x==1 or n==1:\n",
        "\n",
        "           return x\n",
        "\n",
        "       if x==-1:\n",
        "\n",
        "           if n%2 ==0:\n",
        "\n",
        "               return 1\n",
        "\n",
        "           else:\n",
        "\n",
        "               return -1\n",
        "\n",
        "       if n==0:\n",
        "\n",
        "           return 1\n",
        "\n",
        "       if n<0:\n",
        "\n",
        "           return 1/self.pow(x,-n)\n",
        "\n",
        "       val = self.pow(x,n//2)\n",
        "\n",
        "       if n%2 ==0:\n",
        "\n",
        "           return val*val\n",
        "\n",
        "       return val*val*x\n",
        "\n",
        "x=int(input(\"Enter th ex value:\"))\n",
        "n=int(input(\"Enter the n value:\"))\n",
        "print(\"The answer of given (x,n) values is \",power().pow(x,n));\n",
        "\n",
        "\n"
      ],
      "metadata": {
        "colab": {
          "base_uri": "https://localhost:8080/"
        },
        "id": "-8GYSfyZBITj",
        "outputId": "dc60fd77-d2c1-4a1d-f68b-f38e17523bd0"
      },
      "execution_count": 57,
      "outputs": [
        {
          "output_type": "stream",
          "name": "stdout",
          "text": [
            "Enter th ex value:10\n",
            "Enter the n value:2\n",
            "The answer of given (x,n) values is  100\n"
          ]
        }
      ]
    },
    {
      "cell_type": "code",
      "source": [],
      "metadata": {
        "id": "cdPVz5lTCxnn"
      },
      "execution_count": null,
      "outputs": []
    }
  ]
}